{
 "cells": [
  {
   "cell_type": "markdown",
   "metadata": {},
   "source": [
    "# 多項式回帰分析\n",
    "Rデータセットのcarsのデータを用いる。\n",
    "carsの説明 : 次のサイトからcarsを検索  \n",
    "https://stat.ethz.ch/R-manual/R-devel/library/datasets/html/00Index.html <br>\n",
    "このデータを予め取得して、下記のように置いた。<br>\n",
    "これを読み込み、多項式回帰分析を説明する。<br>\n",
    "\n",
    "本Notebookと類似のREG_Poly_R_cars.ipynbはRデータセットを読込むために、別途、必要なパッケージを予めインストールして、この上で、Rデータセットを読込む。このインストールを省くことを行ったのが本Notebookである。"
   ]
  },
  {
   "cell_type": "code",
   "execution_count": null,
   "metadata": {},
   "outputs": [],
   "source": [
    "# -*- coding: utf-8 -*-\n",
    "import numpy as np\n",
    "import pandas as pd\n",
    "import matplotlib.pyplot as plt\n",
    "%matplotlib inline\n",
    "\n",
    "import statsmodels.formula.api as smf\n",
    "\n",
    "FLAG_fig = False"
   ]
  },
  {
   "cell_type": "code",
   "execution_count": null,
   "metadata": {
    "scrolled": false
   },
   "outputs": [],
   "source": [
    "url = \"https://sites.google.com/site/datasciencehiro/datasets/cars_R_datasets.csv\"\n",
    "df = pd.read_csv(url)  # read datasets of cars\n",
    "x = df.speed\n",
    "df.head()"
   ]
  },
  {
   "cell_type": "markdown",
   "metadata": {},
   "source": [
    "#### 1次モデル\n",
    "$y = b_0 + b_1 x$"
   ]
  },
  {
   "cell_type": "code",
   "execution_count": null,
   "metadata": {
    "scrolled": true
   },
   "outputs": [],
   "source": [
    "result1 = smf.ols('dist ~ speed', data=df).fit()\n",
    "print(result1.summary())\n",
    "b0, b1 = result1.params"
   ]
  },
  {
   "cell_type": "code",
   "execution_count": null,
   "metadata": {},
   "outputs": [],
   "source": [
    "df.plot(kind='scatter', x='speed', y='dist')\n",
    "plt.plot(x, b0+b1*x)\n",
    "\n",
    "if FLAG_fig: plt.savefig('fig_REG_poy_R_cars_01.eps')\n",
    "plt.show()"
   ]
  },
  {
   "cell_type": "markdown",
   "metadata": {},
   "source": [
    "#### 2次モデル\n",
    "$y = b_0 + b_1 x + b_2 x^2$"
   ]
  },
  {
   "cell_type": "markdown",
   "metadata": {},
   "source": [
    "df.plot(kind='scatter', x='speed', y='dist')\n",
    "plt.plot(x, b0+x*b1)"
   ]
  },
  {
   "cell_type": "code",
   "execution_count": null,
   "metadata": {
    "scrolled": true
   },
   "outputs": [],
   "source": [
    "result2 = smf.ols('dist ~ np.power(speed,2) + speed', data=df).fit()\n",
    "print(result2.summary())\n",
    "b0, b2, b1 = result2.params"
   ]
  },
  {
   "cell_type": "code",
   "execution_count": null,
   "metadata": {
    "scrolled": false
   },
   "outputs": [],
   "source": [
    "df.plot(kind='scatter', x='speed', y='dist')\n",
    "plt.plot(x, b0+b1*x+b2*(x**2))\n",
    "\n",
    "if FLAG_fig: plt.savefig('fig_REG_poy_R_cars_02.eps')\n",
    "plt.show()"
   ]
  },
  {
   "cell_type": "markdown",
   "metadata": {},
   "source": [
    "#### 3次モデル\n",
    "$y = b_0 + b_1  + b_2 x^2 + b_3 x^3$"
   ]
  },
  {
   "cell_type": "code",
   "execution_count": null,
   "metadata": {},
   "outputs": [],
   "source": [
    "result3 = smf.ols('dist ~ np.power(speed,3) + np.power(speed,2) + speed', data=df).fit()\n",
    "print(result3.summary())\n",
    "b0, b3, b2, b1 = result3.params"
   ]
  },
  {
   "cell_type": "code",
   "execution_count": null,
   "metadata": {},
   "outputs": [],
   "source": [
    "df.plot(kind='scatter', x='speed', y='dist')\n",
    "plt.plot(x, b0+b1*x+b2*(x**2) + b3*(x**3))\n",
    "\n",
    "if FLAG_fig: plt.savefig('fig_REG_poy_R_cars_03.eps')\n",
    "plt.show()"
   ]
  },
  {
   "cell_type": "code",
   "execution_count": null,
   "metadata": {},
   "outputs": [],
   "source": []
  },
  {
   "cell_type": "markdown",
   "metadata": {},
   "source": [
    "## nupmy.polyfit（）を用いたカーブフィッティングの例"
   ]
  },
  {
   "cell_type": "code",
   "execution_count": null,
   "metadata": {
    "scrolled": false
   },
   "outputs": [],
   "source": [
    "x = df.speed\n",
    "y = df.dist\n",
    "degree = 2\n",
    "fit = np.polyfit(x, y, degree)\n",
    "print(fit)\n",
    "est = np.poly1d(fit)\n",
    "print(est)\n",
    "plt.scatter(x,y)\n",
    "plt.plot(x,est(x))\n",
    "plt.title('degree = %d' % degree)"
   ]
  },
  {
   "cell_type": "code",
   "execution_count": null,
   "metadata": {},
   "outputs": [],
   "source": [
    "degree = 3\n",
    "fit = np.polyfit(x, y, degree)\n",
    "print(fit)\n",
    "est = np.poly1d(fit)\n",
    "print(est)\n",
    "plt.scatter(x,y)\n",
    "plt.plot(x,est(x))\n",
    "plt.title('degree = %d' % degree)"
   ]
  },
  {
   "cell_type": "markdown",
   "metadata": {},
   "source": [
    "#### 次の例は，オーバーフィッティング（over fitting）を示す"
   ]
  },
  {
   "cell_type": "code",
   "execution_count": null,
   "metadata": {},
   "outputs": [],
   "source": [
    "degree = 9\n",
    "fit = np.polyfit(x, y, degree)\n",
    "print(fit)\n",
    "est = np.poly1d(fit)\n",
    "print(est)\n",
    "plt.scatter(x,y)\n",
    "plt.plot(x,est(x))\n",
    "plt.title('degree = %d' % degree)"
   ]
  },
  {
   "cell_type": "code",
   "execution_count": null,
   "metadata": {},
   "outputs": [],
   "source": []
  }
 ],
 "metadata": {
  "kernelspec": {
   "display_name": "Python 3",
   "language": "python",
   "name": "python3"
  },
  "language_info": {
   "codemirror_mode": {
    "name": "ipython",
    "version": 3
   },
   "file_extension": ".py",
   "mimetype": "text/x-python",
   "name": "python",
   "nbconvert_exporter": "python",
   "pygments_lexer": "ipython3",
   "version": "3.7.3"
  }
 },
 "nbformat": 4,
 "nbformat_minor": 2
}
