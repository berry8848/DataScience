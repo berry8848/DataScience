{
 "cells": [
  {
   "cell_type": "markdown",
   "metadata": {},
   "source": [
    "# 一般化線形モデル　ポアソン回帰モデル\n",
    "\n",
    "Ref. \n",
    " Possion GLM, https://onlinecourses.science.psu.edu/stat504/node/169  \n",
    " \n",
    "$\\lambda = \\exp(\\beta_0+ \\beta_1)$"
   ]
  },
  {
   "cell_type": "code",
   "execution_count": 1,
   "metadata": {},
   "outputs": [],
   "source": [
    "# -*- coding: utf-8 -*-\n",
    "import numpy as np\n",
    "import pandas as pd\n",
    "\n",
    "import statsmodels.api as sm\n",
    "import statsmodels.formula.api as smf\n",
    "import matplotlib.pyplot as plt\n",
    "%matplotlib inline\n",
    "\n",
    "np.random.seed(123)\n",
    "FLAG_fig = False"
   ]
  },
  {
   "cell_type": "markdown",
   "metadata": {},
   "source": [
    "#### ポアソン分布に従う確率変数ｙのデータ生成\n",
    "$\\lambda = \\exp(\\beta_0), \\hspace{3mm} \\beta_1 = 0$ の場合  \n",
    "平均値をlamとおいた"
   ]
  },
  {
   "cell_type": "code",
   "execution_count": 2,
   "metadata": {},
   "outputs": [],
   "source": [
    "Num = 1000\n",
    "lam = 5 # lambda\n",
    "y = np.random.poisson(lam,Num)"
   ]
  },
  {
   "cell_type": "code",
   "execution_count": 3,
   "metadata": {
    "scrolled": true
   },
   "outputs": [
    {
     "data": {
      "image/png": "[encoded data removed]",
      "text/plain": [
       "<Figure size 432x288 with 1 Axes>"
      ]
     },
     "metadata": {
      "needs_background": "light"
     },
     "output_type": "display_data"
    }
   ],
   "source": [
    "count, bins, ignored = plt.hist(y, 14, density=False)\n",
    "\n",
    "if FLAG_fig: plt.savefig('fig_REG_GLM_Poisson1_hist.png')\n",
    "plt.show()"
   ]
  },
  {
   "cell_type": "markdown",
   "metadata": {},
   "source": [
    "#### 一部をプロット"
   ]
  },
  {
   "cell_type": "code",
   "execution_count": 4,
   "metadata": {
    "scrolled": true
   },
   "outputs": [
    {
     "data": {
      "image/png": "[encoded data removed]",
      "text/plain": [
       "<Figure size 432x288 with 1 Axes>"
      ]
     },
     "metadata": {
      "needs_background": "light"
     },
     "output_type": "display_data"
    }
   ],
   "source": [
    "n = 100\n",
    "plt.plot( y[0:n])\n",
    "\n",
    "if FLAG_fig: plt.savefig('fig_REG_GLM_Poisson1_plot.png')\n",
    "plt.show()"
   ]
  },
  {
   "cell_type": "markdown",
   "metadata": {},
   "source": [
    "一般化線形モデル問題を解く"
   ]
  },
  {
   "cell_type": "code",
   "execution_count": 5,
   "metadata": {},
   "outputs": [],
   "source": [
    "x = range(len(y))\n",
    "df = pd.DataFrame({'x':x, 'y':y})"
   ]
  },
  {
   "cell_type": "code",
   "execution_count": 18,
   "metadata": {},
   "outputs": [
    {
     "name": "stdout",
     "output_type": "stream",
     "text": [
      "                 Generalized Linear Model Regression Results                  \n",
      "==============================================================================\n",
      "Dep. Variable:                      y   No. Observations:                 1000\n",
      "Model:                            GLM   Df Residuals:                      998\n",
      "Model Family:                 Poisson   Df Model:                            1\n",
      "Link Function:                    log   Scale:                          1.0000\n",
      "Method:                          IRLS   Log-Likelihood:                -2524.2\n",
      "Date:                Tue, 22 Sep 2020   Deviance:                       1035.6\n",
      "Time:                        15:28:30   Pearson chi2:                 1.01e+03\n",
      "No. Iterations:                     5                                         \n",
      "Covariance Type:            nonrobust                                         \n",
      "==============================================================================\n",
      "                 coef    std err          z      P>|z|      [0.025      0.975]\n",
      "------------------------------------------------------------------------------\n",
      "Intercept      0.5198      0.028     18.355      0.000       0.464       0.575\n",
      "x              0.0035   3.65e-05     95.100      0.000       0.003       0.004\n",
      "==============================================================================\n"
     ]
    },
    {
     "name": "stderr",
     "output_type": "stream",
     "text": [
      "<ipython-input-18-74585cacf405>:2: DeprecationWarning: Calling Family(..) with a link class as argument is deprecated.\n",
      "Use an instance of a link class instead.\n",
      "  result = smf.glm(formula=glm_model, data=df, family=sm.families.Poisson(link=sm.families.links.log)).fit()\n"
     ]
    }
   ],
   "source": [
    "glm_model = 'y ~ x'\n",
    "result = smf.glm(formula=glm_model, data=df, family=sm.families.Poisson(link=sm.families.links.log)).fit()\n",
    "print(result.summary())"
   ]
  },
  {
   "cell_type": "code",
   "execution_count": 7,
   "metadata": {
    "scrolled": false
   },
   "outputs": [
    {
     "name": "stdout",
     "output_type": "stream",
     "text": [
      "exp(b0) = 4.868175715776294\n"
     ]
    }
   ],
   "source": [
    "b0, b1 = result.params\n",
    "print('exp(b0) =',np.exp(b0)) "
   ]
  },
  {
   "cell_type": "code",
   "execution_count": 8,
   "metadata": {},
   "outputs": [
    {
     "name": "stdout",
     "output_type": "stream",
     "text": [
      "Mean of y = 4.919\n"
     ]
    }
   ],
   "source": [
    "print('Mean of y =',df.y.mean())"
   ]
  },
  {
   "cell_type": "markdown",
   "metadata": {},
   "source": [
    "#### ポアソン分布に従う確率変数ｙのデータ生成\n",
    "$\\lambda = \\exp(\\beta_0 + \\beta_1 x1)$, の場合  "
   ]
  },
  {
   "cell_type": "code",
   "execution_count": 9,
   "metadata": {},
   "outputs": [],
   "source": [
    "Num = 1000\n",
    "x = np.zeros(Num)\n",
    "y = np.zeros(Num)"
   ]
  },
  {
   "cell_type": "code",
   "execution_count": 10,
   "metadata": {},
   "outputs": [],
   "source": [
    "b0 , b1 = 0.5, 3.5\n",
    "for i in range(Num):\n",
    "    x[i] = i\n",
    "    lam = np.exp( b0 + (b1/float(Num)) * (float(i)))\n",
    "    y[i] = np.random.poisson(lam,1)"
   ]
  },
  {
   "cell_type": "code",
   "execution_count": 11,
   "metadata": {},
   "outputs": [
    {
     "data": {
      "image/png": "[encoded data removed]",
      "text/plain": [
       "<Figure size 432x288 with 1 Axes>"
      ]
     },
     "metadata": {
      "needs_background": "light"
     },
     "output_type": "display_data"
    }
   ],
   "source": [
    "count, bins, ignored = plt.hist(y, 14, density=False)\n",
    "\n",
    "if FLAG_fig: plt.savefig('fig_REG_GLM_Poisson2_hist.png')\n",
    "plt.show()"
   ]
  },
  {
   "cell_type": "code",
   "execution_count": 12,
   "metadata": {},
   "outputs": [
    {
     "data": {
      "text/plain": [
       "<matplotlib.collections.PathCollection at 0x1dd5afc5340>"
      ]
     },
     "execution_count": 12,
     "metadata": {},
     "output_type": "execute_result"
    },
    {
     "data": {
      "image/png": "[encoded data removed]",
      "text/plain": [
       "<Figure size 432x288 with 1 Axes>"
      ]
     },
     "metadata": {
      "needs_background": "light"
     },
     "output_type": "display_data"
    }
   ],
   "source": [
    "plt.scatter(x, y)"
   ]
  },
  {
   "cell_type": "code",
   "execution_count": 13,
   "metadata": {},
   "outputs": [
    {
     "name": "stdout",
     "output_type": "stream",
     "text": [
      "                 Generalized Linear Model Regression Results                  \n",
      "==============================================================================\n",
      "Dep. Variable:                      y   No. Observations:                 1000\n",
      "Model:                            GLM   Df Residuals:                      998\n",
      "Model Family:                 Poisson   Df Model:                            1\n",
      "Link Function:                    log   Scale:                          1.0000\n",
      "Method:                          IRLS   Log-Likelihood:                -2524.2\n",
      "Date:                Tue, 22 Sep 2020   Deviance:                       1035.6\n",
      "Time:                        15:24:54   Pearson chi2:                 1.01e+03\n",
      "No. Iterations:                     5                                         \n",
      "Covariance Type:            nonrobust                                         \n",
      "==============================================================================\n",
      "                 coef    std err          z      P>|z|      [0.025      0.975]\n",
      "------------------------------------------------------------------------------\n",
      "Intercept      0.5198      0.028     18.355      0.000       0.464       0.575\n",
      "x              0.0035   3.65e-05     95.100      0.000       0.003       0.004\n",
      "==============================================================================\n"
     ]
    },
    {
     "name": "stderr",
     "output_type": "stream",
     "text": [
      "<ipython-input-13-ee73e648b4f2>:3: DeprecationWarning: Calling Family(..) with a link class as argument is deprecated.\n",
      "Use an instance of a link class instead.\n",
      "  result = smf.glm(formula=glm_model, data=df, family=sm.families.Poisson(link=sm.families.links.log)).fit()\n"
     ]
    }
   ],
   "source": [
    "df = pd.DataFrame({'x':x, 'y':y})\n",
    "glm_model = 'y ~ x'\n",
    "result = smf.glm(formula=glm_model, data=df, family=sm.families.Poisson(link=sm.families.links.log)).fit()\n",
    "print(result.summary())"
   ]
  },
  {
   "cell_type": "markdown",
   "metadata": {},
   "source": [
    "下記で　b1 = b1 * num としているのは，glmはlamの生成式にある(b1/float(num))を予測しており，この分母を払うため"
   ]
  },
  {
   "cell_type": "code",
   "execution_count": 14,
   "metadata": {},
   "outputs": [
    {
     "name": "stdout",
     "output_type": "stream",
     "text": [
      "b0 = 0.519759  b1 = 3.469264\n"
     ]
    }
   ],
   "source": [
    "b0, b1 = result.params\n",
    "b1 = b1 * Num  # 見掛け上のパラメータの分母に(num)があるため，これを払う\n",
    "print(\"b0 = %f  b1 = %f\" % (b0,b1))\n",
    "#e_b0 = np.exp(b0)\n",
    "#e_b1 = np.exp(b1)\n",
    "#print(\"exp(b0) = %f  exp(b1) = %f\" % (e_b0, e_b1))"
   ]
  },
  {
   "cell_type": "code",
   "execution_count": 15,
   "metadata": {},
   "outputs": [
    {
     "data": {
      "image/png": "[encoded data removed]",
      "text/plain": [
       "<Figure size 432x288 with 1 Axes>"
      ]
     },
     "metadata": {
      "needs_background": "light"
     },
     "output_type": "display_data"
    }
   ],
   "source": [
    "y_pre = np.exp(b0 + (b1/float(Num))*x)\n",
    "plt.scatter(x[0:Num], y[0:Num])\n",
    "plt.plot(x, y_pre, color = 'white')\n",
    "\n",
    "if FLAG_fig: plt.savefig('fig_REG_GLM_Poisson2_plot.png')\n",
    "plt.show()"
   ]
  },
  {
   "cell_type": "markdown",
   "metadata": {},
   "source": [
    "#### データの前半500個[0:499]と後半500個[500:999]を入れ替える"
   ]
  },
  {
   "cell_type": "code",
   "execution_count": 16,
   "metadata": {},
   "outputs": [
    {
     "data": {
      "image/png": "[encoded data removed]",
      "text/plain": [
       "<Figure size 432x288 with 1 Axes>"
      ]
     },
     "metadata": {
      "needs_background": "light"
     },
     "output_type": "display_data"
    }
   ],
   "source": [
    "nlen = len(x)\n",
    "n2 = int(nlen/2)\n",
    "\n",
    "xx = np.zeros(nlen)  # この1行は，いわゆる copy.deepcopy() ( import copy )の意味のメモリ確保\n",
    "if nlen % 2 == 0: #even\n",
    "    nst = n2\n",
    "else:\n",
    "    nst = n2 + 1\n",
    "    xx[n2] = x[n2]\n",
    "    \n",
    "xx[0:n2] = x[nst:nlen]\n",
    "xx[nst:nlen]= x[0:n2]\n",
    "\"\"\"\n",
    "print(xx[0:5])\n",
    "print(xx[(n2-1):(n2+4)])\n",
    "print(xx[-5:])\n",
    "\"\"\"\n",
    "yy = np.zeros(nlen)  # この1行は，いわゆる copy.deepcopy() ( import copy )の意味のメモリ確保\n",
    "yy[0:n2] = y[nst:nlen]\n",
    "yy[nst:nlen]= y[0:n2]\n",
    "\n",
    "plt.plot(yy[0:nlen]) # 注意：plot(xx,yy)とすると，先のグラフと同じになる\n",
    "\n",
    "if FLAG_fig: plt.savefig('fig_REG_GLM_Poisson3_plot.png')\n",
    "plt.show()"
   ]
  },
  {
   "cell_type": "code",
   "execution_count": 17,
   "metadata": {},
   "outputs": [
    {
     "name": "stdout",
     "output_type": "stream",
     "text": [
      "                 Generalized Linear Model Regression Results                  \n",
      "==============================================================================\n",
      "Dep. Variable:                      y   No. Observations:                 1000\n",
      "Model:                            GLM   Df Residuals:                      998\n",
      "Model Family:                 Poisson   Df Model:                            1\n",
      "Link Function:                    log   Scale:                          1.0000\n",
      "Method:                          IRLS   Log-Likelihood:                -2524.2\n",
      "Date:                Tue, 22 Sep 2020   Deviance:                       1035.6\n",
      "Time:                        15:24:54   Pearson chi2:                 1.01e+03\n",
      "No. Iterations:                     5                                         \n",
      "Covariance Type:            nonrobust                                         \n",
      "==============================================================================\n",
      "                 coef    std err          z      P>|z|      [0.025      0.975]\n",
      "------------------------------------------------------------------------------\n",
      "Intercept      0.5198      0.028     18.355      0.000       0.464       0.575\n",
      "x              0.0035   3.65e-05     95.100      0.000       0.003       0.004\n",
      "==============================================================================\n"
     ]
    },
    {
     "name": "stderr",
     "output_type": "stream",
     "text": [
      "<ipython-input-17-d712deaaee1d>:3: DeprecationWarning: Calling Family(..) with a link class as argument is deprecated.\n",
      "Use an instance of a link class instead.\n",
      "  result = smf.glm(formula=glm_model, data=df, family=sm.families.Poisson(link=sm.families.links.log)).fit()\n"
     ]
    }
   ],
   "source": [
    "df = pd.DataFrame({'x':xx, 'y':yy})\n",
    "glm_model = 'y ~ x'\n",
    "result = smf.glm(formula=glm_model, data=df, family=sm.families.Poisson(link=sm.families.links.log)).fit()\n",
    "print(result.summary())"
   ]
  },
  {
   "cell_type": "code",
   "execution_count": null,
   "metadata": {},
   "outputs": [],
   "source": []
  }
 ],
 "metadata": {
  "kernelspec": {
   "display_name": "Python 3",
   "language": "python",
   "name": "python3"
  },
  "language_info": {
   "codemirror_mode": {
    "name": "ipython",
    "version": 3
   },
   "file_extension": ".py",
   "mimetype": "text/x-python",
   "name": "python",
   "nbconvert_exporter": "python",
   "pygments_lexer": "ipython3",
   "version": "3.8.5"
  }
 },
 "nbformat": 4,
 "nbformat_minor": 2
}
