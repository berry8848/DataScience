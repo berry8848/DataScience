{
 "cells": [
  {
   "cell_type": "markdown",
   "metadata": {},
   "source": [
    "# 一般化線形モデル　ロジスティック回帰モデル\n",
    "対象：Spector and Mazzeo (1980) - Program Effectiveness Data <br>\n",
    "http://www.statsmodels.org/dev/datasets/generated/spector.html\n"
   ]
  },
  {
   "cell_type": "code",
   "execution_count": 1,
   "metadata": {},
   "outputs": [],
   "source": [
    "# -*- coding: utf-8 -*-\n",
    "import numpy as np\n",
    "import pandas as pd\n",
    "import statsmodels.api as sm\n",
    "import statsmodels.formula.api as smf\n",
    "import matplotlib.pyplot as plt\n",
    "\n",
    "#import seaborn as sns\n",
    "\n",
    "np.random.seed(123)\n",
    "FLAG_fig = False"
   ]
  },
  {
   "cell_type": "code",
   "execution_count": 2,
   "metadata": {
    "scrolled": true
   },
   "outputs": [
    {
     "name": "stdout",
     "output_type": "stream",
     "text": [
      "    GPA  TUCE  PSI  GRADE\n",
      "0  2.66  20.0  0.0    0.0\n",
      "1  2.89  22.0  0.0    0.0\n",
      "2  3.28  24.0  0.0    0.0\n",
      "3  2.92  12.0  0.0    0.0\n",
      "4  4.00  21.0  0.0    1.0\n"
     ]
    }
   ],
   "source": [
    "data = sm.datasets.spector.load().data\n",
    "df = pd.DataFrame(data)\n",
    "print(df.head())"
   ]
  },
  {
   "cell_type": "code",
   "execution_count": 3,
   "metadata": {
    "scrolled": true
   },
   "outputs": [
    {
     "name": "stdout",
     "output_type": "stream",
     "text": [
      "                 Generalized Linear Model Regression Results                  \n",
      "==============================================================================\n",
      "Dep. Variable:                  GRADE   No. Observations:                   32\n",
      "Model:                            GLM   Df Residuals:                       28\n",
      "Model Family:                Binomial   Df Model:                            3\n",
      "Link Function:                  logit   Scale:                          1.0000\n",
      "Method:                          IRLS   Log-Likelihood:                -12.890\n",
      "Date:                Tue, 22 Sep 2020   Deviance:                       25.779\n",
      "Time:                        17:08:34   Pearson chi2:                     27.3\n",
      "No. Iterations:                     5                                         \n",
      "Covariance Type:            nonrobust                                         \n",
      "==============================================================================\n",
      "                 coef    std err          z      P>|z|      [0.025      0.975]\n",
      "------------------------------------------------------------------------------\n",
      "Intercept    -13.0213      4.931     -2.641      0.008     -22.686      -3.356\n",
      "GPA            2.8261      1.263      2.238      0.025       0.351       5.301\n",
      "TUCE           0.0952      0.142      0.672      0.501      -0.182       0.373\n",
      "PSI            2.3787      1.065      2.234      0.025       0.292       4.465\n",
      "==============================================================================\n"
     ]
    },
    {
     "name": "stderr",
     "output_type": "stream",
     "text": [
      "<ipython-input-3-ada0fc0181c9>:2: DeprecationWarning: Calling Family(..) with a link class as argument is deprecated.\n",
      "Use an instance of a link class instead.\n",
      "  fit = smf.glm(formula=glm_model, data=df, family=sm.families.Binomial(link=sm.families.links.logit))\n"
     ]
    }
   ],
   "source": [
    "glm_model = 'GRADE ~ GPA + TUCE + PSI'\n",
    "fit = smf.glm(formula=glm_model, data=df, family=sm.families.Binomial(link=sm.families.links.logit))\n",
    "result = fit.fit()\n",
    "print(result.summary())"
   ]
  },
  {
   "cell_type": "code",
   "execution_count": 4,
   "metadata": {
    "scrolled": true
   },
   "outputs": [
    {
     "name": "stdout",
     "output_type": "stream",
     "text": [
      "            GPA      TUCE       PSI     GRADE\n",
      "GPA    1.000000  0.386986  0.039683  0.497147\n",
      "TUCE   0.386986  1.000000  0.112780  0.303055\n",
      "PSI    0.039683  0.112780  1.000000  0.422760\n",
      "GRADE  0.497147  0.303055  0.422760  1.000000\n"
     ]
    }
   ],
   "source": [
    "print(df.corr())"
   ]
  },
  {
   "cell_type": "markdown",
   "metadata": {},
   "source": [
    "念のため，縦軸にGRADEをとり，横軸にGPA,色でPSI=1,0を区別したグラフから何かを言えるかを確かめてみた。　\n",
    "しかし，あまり，有意な特徴を見出すことはできない。"
   ]
  },
  {
   "cell_type": "code",
   "execution_count": 5,
   "metadata": {
    "scrolled": false
   },
   "outputs": [
    {
     "data": {
      "text/plain": [
       "<matplotlib.legend.Legend at 0x25a2217ecd0>"
      ]
     },
     "execution_count": 5,
     "metadata": {},
     "output_type": "execute_result"
    },
    {
     "data": {
      "image/png": "[encoded data removed]",
      "text/plain": [
       "<Figure size 432x288 with 1 Axes>"
      ]
     },
     "metadata": {
      "needs_background": "light"
     },
     "output_type": "display_data"
    }
   ],
   "source": [
    "plt.scatter(df.GPA[df.PSI==1.0], df.GRADE[df.PSI == 1.0] ,c = \"red\", label = \"PSI=1\")\n",
    "plt.scatter(df.GPA[df.PSI==0.0], df.GRADE[df.PSI == 0.0] ,c = \"blue\", label = \"PSI=0\")\n",
    "\n",
    "plt.xlabel('GPA')\n",
    "plt.ylabel('GRADE')\n",
    "#plt.title('Red:PSI=1,  Blue:PSI=0')\n",
    "plt.legend(loc='center left')"
   ]
  },
  {
   "cell_type": "markdown",
   "metadata": {},
   "source": [
    "次に，GRADE=1,0でグループ分けして，GPAに関するボックスプロットを行った。  \n",
    "これを見ても，あまり有意な特徴を見出すことはできない。"
   ]
  },
  {
   "cell_type": "code",
   "execution_count": 6,
   "metadata": {},
   "outputs": [
    {
     "data": {
      "text/plain": [
       "<AxesSubplot:title={'center':'GPA'}, xlabel='GRADE'>"
      ]
     },
     "execution_count": 6,
     "metadata": {},
     "output_type": "execute_result"
    },
    {
     "data": {
      "image/png": "[encoded data removed]",
      "text/plain": [
       "<Figure size 432x288 with 1 Axes>"
      ]
     },
     "metadata": {
      "needs_background": "light"
     },
     "output_type": "display_data"
    }
   ],
   "source": [
    "df.boxplot(column=['GPA'], by='GRADE') #byはグループ毎で見る列を指定　"
   ]
  },
  {
   "cell_type": "code",
   "execution_count": null,
   "metadata": {},
   "outputs": [],
   "source": []
  }
 ],
 "metadata": {
  "kernelspec": {
   "display_name": "Python 3",
   "language": "python",
   "name": "python3"
  },
  "language_info": {
   "codemirror_mode": {
    "name": "ipython",
    "version": 3
   },
   "file_extension": ".py",
   "mimetype": "text/x-python",
   "name": "python",
   "nbconvert_exporter": "python",
   "pygments_lexer": "ipython3",
   "version": "3.8.5"
  }
 },
 "nbformat": 4,
 "nbformat_minor": 2
}
